{
 "cells": [
  {
   "cell_type": "code",
   "execution_count": null,
   "metadata": {
    "collapsed": true
   },
   "outputs": [],
   "source": [
    "import numpy as np\n",
    "import cv2\n",
    "import matplotlib.pyplot as plt\n",
    "import os\n",
    "from PIL import Image\n",
    "from skimage import color\n",
    "from os import listdir\n",
    "from os.path import isfile, join\n",
    "import math"
   ]
  },
  {
   "cell_type": "code",
   "execution_count": null,
   "metadata": {
    "collapsed": true
   },
   "outputs": [],
   "source": [
    "ipfolder = \"C:\\\\DragonBallZ\\\\Summer2018\\\\Video_Image_Processing_GANS\\\\sharedVBOX\\\\bedroomip\"\n",
    "opfolder = \"C:\\\\DragonBallZ\\\\Summer2018\\\\Video_Image_Processing_GANS\\\\sharedVBOX\\\\bedroomop\""
   ]
  },
  {
   "cell_type": "code",
   "execution_count": null,
   "metadata": {
    "collapsed": true
   },
   "outputs": [],
   "source": [
    "def numeric_chars2(x):\n",
    "    y = x[5:-4]\n",
    "    return(int(y))"
   ]
  },
  {
   "cell_type": "code",
   "execution_count": null,
   "metadata": {
    "collapsed": true
   },
   "outputs": [],
   "source": [
    "dct = {}"
   ]
  },
  {
   "cell_type": "code",
   "execution_count": null,
   "metadata": {
    "collapsed": true
   },
   "outputs": [],
   "source": [
    "niter = 100"
   ]
  },
  {
   "cell_type": "code",
   "execution_count": null,
   "metadata": {},
   "outputs": [],
   "source": [
    "ipfiles = [f for f in os.listdir(ipfolder)]\n",
    "ipfiles"
   ]
  },
  {
   "cell_type": "code",
   "execution_count": null,
   "metadata": {},
   "outputs": [],
   "source": []
  },
  {
   "cell_type": "code",
   "execution_count": null,
   "metadata": {},
   "outputs": [],
   "source": [
    "file_list = os.listdir(opfolder)\n",
    "l1 = sorted(file_list, key = numeric_chars2)\n",
    "print(l1)"
   ]
  },
  {
   "cell_type": "code",
   "execution_count": null,
   "metadata": {},
   "outputs": [],
   "source": [
    "def kf(a,b):\n",
    "    I1 = np.asarray(a.convert('L'))\n",
    "    I2 = np.asarray(b.convert('L'))\n",
    "    i = I1 - I2\n",
    "    #revsigma=1.0/100000000 #10^8\n",
    "    revsigma=1.0/10000000 #10^7\n",
    "    val = np.exp(-0.5*revsigma*np.linalg.norm(i)**2)\n",
    "    return val"
   ]
  },
  {
   "cell_type": "code",
   "execution_count": null,
   "metadata": {
    "collapsed": true
   },
   "outputs": [],
   "source": [
    "def getRandomFromOutput(dct,img):\n",
    "    A1,A2 = np.random.choice(list(dct.keys()),2,replace=False)\n",
    "    xg = img.crop(dct[A1])\n",
    "    xgprime = img.crop(dct[A2])\n",
    "    return xg,xgprime   "
   ]
  },
  {
   "cell_type": "code",
   "execution_count": null,
   "metadata": {
    "collapsed": true
   },
   "outputs": [],
   "source": [
    "def computeKernel(xr,xrprime,xg,xgprime):\n",
    "    exp1 = kf(xr,xrprime)\n",
    "    exp2 = -2 * kf(xr,xg)\n",
    "    exp3 = kf(xg,xgprime)\n",
    "    exp = (exp1 + exp2 + exp3)**0.5\n",
    "    print(\"exp \",exp)\n",
    "    if math.isnan(exp):\n",
    "        exp = 0 \n",
    "    return exp"
   ]
  },
  {
   "cell_type": "code",
   "execution_count": null,
   "metadata": {},
   "outputs": [],
   "source": [
    "def getRandomFromInput():\n",
    "    v1,v2 = np.random.choice(ipfiles,2,replace=False)\n",
    "    print(\"IP1 \",v1)\n",
    "    print(\"IP2 \",v2)\n",
    "    inpi1 = os.path.join(ipfolder,v1)\n",
    "    inpi2 = os.path.join(ipfolder,v2)\n",
    "    xr = Image.open(inpi1)\n",
    "    xrprime = Image.open(inpi2)\n",
    "    print(\"xr size \",xr.size)\n",
    "    print(\"xrprime size \",xrprime.size)\n",
    "    return xr,xrprime"
   ]
  },
  {
   "cell_type": "code",
   "execution_count": null,
   "metadata": {},
   "outputs": [],
   "source": [
    "xr,xrprime = getRandomFromInput()"
   ]
  },
  {
   "cell_type": "code",
   "execution_count": null,
   "metadata": {
    "collapsed": true
   },
   "outputs": [],
   "source": [
    "def populatedct(size):\n",
    "    listSize = [(size*i)/8 for i in range(0,8)]\n",
    "    startIndex = 1\n",
    "    for col in listSize:\n",
    "        for row in listSize:\n",
    "            area = (row,col,row+(size/8),col+(size/8))\n",
    "            dct[startIndex] = area\n",
    "            startIndex+=1\n",
    "    print(dct)\n",
    "    return dct\n",
    "    "
   ]
  },
  {
   "cell_type": "code",
   "execution_count": null,
   "metadata": {
    "collapsed": true
   },
   "outputs": [],
   "source": [
    "# Reshapes every incoming image to 64*64 \n",
    "def reshapeImg(img):\n",
    "    new_width,new_height = 64,64\n",
    "    img = img.resize((new_width, new_height), Image.ANTIALIAS)\n",
    "    return img\n",
    "    "
   ]
  },
  {
   "cell_type": "code",
   "execution_count": null,
   "metadata": {},
   "outputs": [],
   "source": []
  },
  {
   "cell_type": "code",
   "execution_count": null,
   "metadata": {},
   "outputs": [],
   "source": [
    "new_height,new_width = 0,0\n",
    "kernelList = []\n",
    "emptydic = True \n",
    "for op in l1:\n",
    "    xr,xrprime = getRandomFromInput()\n",
    "    oppath = os.path.join(opfolder,op)\n",
    "    img = Image.open(oppath)\n",
    "    size = img.size[0]\n",
    "    print(size)\n",
    "    if emptydic :\n",
    "        dct = populatedct(size)\n",
    "        emptydic = False\n",
    "    xr = reshapeImg(xr)\n",
    "    xrprime = reshapeImg(xrprime)\n",
    "    kernelAvglist = []\n",
    "    for i in range(niter):\n",
    "        xg,xgprime = getRandomFromOutput(dct,img)\n",
    "        xg = reshapeImg(xg)\n",
    "        xgprime = reshapeImg(xgprime)\n",
    "        kernelval = computeKernel(xr,xrprime,xg,xgprime)\n",
    "        kernelAvglist.append(kernelval) \n",
    "    kernelList.append(sum(kernelAvglist)/len(kernelAvglist))\n",
    "plt.plot(kernelList,'.-')\n",
    "plt.show()"
   ]
  },
  {
   "cell_type": "code",
   "execution_count": null,
   "metadata": {},
   "outputs": [],
   "source": [
    "plt.plot(kernelList,'.')\n",
    "plt.show()"
   ]
  }
 ],
 "metadata": {
  "kernelspec": {
   "display_name": "Python 3",
   "language": "python",
   "name": "python3"
  },
  "language_info": {
   "codemirror_mode": {
    "name": "ipython",
    "version": 3
   },
   "file_extension": ".py",
   "mimetype": "text/x-python",
   "name": "python",
   "nbconvert_exporter": "python",
   "pygments_lexer": "ipython3",
   "version": "3.6.1"
  }
 },
 "nbformat": 4,
 "nbformat_minor": 2
}
