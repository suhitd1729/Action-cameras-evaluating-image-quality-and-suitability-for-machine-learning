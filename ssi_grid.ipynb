{
 "cells": [
  {
   "cell_type": "code",
   "execution_count": 35,
   "metadata": {},
   "outputs": [],
   "source": [
    "import numpy as np\n",
    "import cv2\n",
    "import matplotlib.pyplot as plt\n",
    "import os\n",
    "from PIL import Image\n",
    "from skimage import color\n",
    "from os import listdir\n",
    "from os.path import isfile, join\n",
    "import math\n",
    "import random\n",
    "import pprint\n",
    "from skimage import color\n",
    "#from skimage.measure import structural_similarity as ssim\n",
    "from skimage.measure import compare_ssim"
   ]
  },
  {
   "cell_type": "code",
   "execution_count": 9,
   "metadata": {
    "collapsed": true
   },
   "outputs": [],
   "source": [
    "ipfolder = \"C:\\\\DragonBallZ\\\\Summer2018\\\\Video_Image_Processing_GANS\\\\sharedVBOX\\\\bedroomip\"\n",
    "opfolder = \"C:\\\\DragonBallZ\\\\Summer2018\\\\Video_Image_Processing_GANS\\\\sharedVBOX\\\\bedroomop\""
   ]
  },
  {
   "cell_type": "code",
   "execution_count": 10,
   "metadata": {
    "collapsed": true
   },
   "outputs": [],
   "source": [
    "inpImgList= []"
   ]
  },
  {
   "cell_type": "code",
   "execution_count": 11,
   "metadata": {
    "collapsed": true
   },
   "outputs": [],
   "source": [
    "def numeric_chars2(x):\n",
    "    y = x[5:-4]\n",
    "    return(int(y))"
   ]
  },
  {
   "cell_type": "code",
   "execution_count": 12,
   "metadata": {
    "collapsed": true
   },
   "outputs": [],
   "source": [
    "random.seed(7)"
   ]
  },
  {
   "cell_type": "code",
   "execution_count": 13,
   "metadata": {
    "collapsed": true
   },
   "outputs": [],
   "source": [
    "ipfiles = [f for f in os.listdir(ipfolder)]"
   ]
  },
  {
   "cell_type": "code",
   "execution_count": 14,
   "metadata": {
    "collapsed": true
   },
   "outputs": [],
   "source": [
    "opfiles = [f for f in os.listdir(opfolder)]"
   ]
  },
  {
   "cell_type": "code",
   "execution_count": 15,
   "metadata": {
    "collapsed": true
   },
   "outputs": [],
   "source": [
    "l1 = list(np.random.choice(ipfiles,64,replace=False))\n",
    "l2 = list(np.random.choice(opfiles,64,replace=False))"
   ]
  },
  {
   "cell_type": "code",
   "execution_count": 17,
   "metadata": {},
   "outputs": [
    {
     "data": {
      "text/plain": [
       "['image53.png',\n",
       " 'image67.png',\n",
       " 'image129.png',\n",
       " 'image203.png',\n",
       " 'image348.png',\n",
       " 'image607.png',\n",
       " 'image877.png',\n",
       " 'image1040.png',\n",
       " 'image1149.png',\n",
       " 'image1253.png',\n",
       " 'image1360.png',\n",
       " 'image1361.png',\n",
       " 'image1531.png',\n",
       " 'image1614.png',\n",
       " 'image1701.png',\n",
       " 'image1710.png',\n",
       " 'image1786.png',\n",
       " 'image1800.png',\n",
       " 'image1843.png',\n",
       " 'image1902.png',\n",
       " 'image1983.png',\n",
       " 'image2029.png',\n",
       " 'image2067.png',\n",
       " 'image2140.png',\n",
       " 'image2166.png',\n",
       " 'image2169.png',\n",
       " 'image2198.png',\n",
       " 'image2252.png',\n",
       " 'image2269.png',\n",
       " 'image2458.png',\n",
       " 'image2554.png',\n",
       " 'image2618.png',\n",
       " 'image2736.png',\n",
       " 'image2749.png',\n",
       " 'image2773.png',\n",
       " 'image2911.png',\n",
       " 'image2938.png',\n",
       " 'image3136.png',\n",
       " 'image3205.png',\n",
       " 'image3265.png',\n",
       " 'image3415.png',\n",
       " 'image3437.png',\n",
       " 'image3459.png',\n",
       " 'image3505.png',\n",
       " 'image3520.png',\n",
       " 'image3529.png',\n",
       " 'image3545.png',\n",
       " 'image3550.png',\n",
       " 'image3738.png',\n",
       " 'image3927.png',\n",
       " 'image4379.png',\n",
       " 'image4486.png',\n",
       " 'image4715.png',\n",
       " 'image4719.png',\n",
       " 'image5115.png',\n",
       " 'image5143.png',\n",
       " 'image5241.png',\n",
       " 'image5252.png',\n",
       " 'image5276.png',\n",
       " 'image5404.png',\n",
       " 'image5731.png',\n",
       " 'image5778.png',\n",
       " 'image5799.png',\n",
       " 'image5813.png']"
      ]
     },
     "execution_count": 17,
     "metadata": {},
     "output_type": "execute_result"
    }
   ],
   "source": [
    "l2 = sorted(l2,key = numeric_chars2)\n",
    "l2"
   ]
  },
  {
   "cell_type": "code",
   "execution_count": 18,
   "metadata": {},
   "outputs": [
    {
     "data": {
      "text/plain": [
       "64"
      ]
     },
     "execution_count": 18,
     "metadata": {},
     "output_type": "execute_result"
    }
   ],
   "source": [
    "len(l1)"
   ]
  },
  {
   "cell_type": "code",
   "execution_count": 19,
   "metadata": {
    "collapsed": true
   },
   "outputs": [],
   "source": [
    "def populateImageList(inpImgList,out_img,size):\n",
    "    listSize = [(size*i)/8 for i in range(0,8)]\n",
    "    imgList = []\n",
    "    outImgList = [] \n",
    "    for col in listSize:\n",
    "        for row in listSize:\n",
    "            area = (row,col,row+(size/8),col+(size/8))\n",
    "            out_img_grid = out_img.crop(area)\n",
    "            outImgList.append(out_img_grid)\n",
    "    imgList.extend(inpImgList)\n",
    "    imgList.extend(outImgList)\n",
    "    return imgList"
   ]
  },
  {
   "cell_type": "code",
   "execution_count": 20,
   "metadata": {
    "collapsed": true
   },
   "outputs": [],
   "source": [
    "def standardizeImageList(imgList):\n",
    "    new_width,new_height = 64,64\n",
    "    imgList = [i.resize((new_width, new_height), Image.ANTIALIAS) for i in imgList]\n",
    "    return imgList\n",
    "    \n",
    "    "
   ]
  },
  {
   "cell_type": "code",
   "execution_count": 21,
   "metadata": {
    "collapsed": true
   },
   "outputs": [],
   "source": [
    "def imgToArray(imgList):\n",
    "    npArray = []\n",
    "    for i in imgList:\n",
    "        I = np.asarray(i.convert('L'))\n",
    "        npArray.append(I)\n",
    "    return npArray\n",
    "        "
   ]
  },
  {
   "cell_type": "code",
   "execution_count": 29,
   "metadata": {
    "collapsed": true
   },
   "outputs": [],
   "source": [
    "def findssi (imageA , imageB):\n",
    "    im_np1 = np.asarray(imageA.convert('L'))\n",
    "    im_np2 = np.asarray(imageB.convert('L'))\n",
    "    s = compare_ssim(im_np1,im_np2)\n",
    "    return s"
   ]
  },
  {
   "cell_type": "code",
   "execution_count": 23,
   "metadata": {
    "collapsed": true
   },
   "outputs": [],
   "source": [
    "def createDictOfSSIValues(imgList):\n",
    "    startIndex = 0\n",
    "    d = {}\n",
    "    for i in imgList:\n",
    "        lst = []\n",
    "        for j in imgList:\n",
    "            val = findssi(i,j)\n",
    "            if val == 1:\n",
    "                val = float(\"-inf\")\n",
    "            lst.append(val)\n",
    "        d[startIndex] = lst\n",
    "        startIndex+=1\n",
    "    return d"
   ]
  },
  {
   "cell_type": "code",
   "execution_count": 30,
   "metadata": {
    "collapsed": true
   },
   "outputs": [],
   "source": [
    "def getAccuracy(d):\n",
    "    count = 0 \n",
    "    for k in d.keys():\n",
    "        valList = d[k]\n",
    "        maxIndex = valList.index(max(valList))\n",
    "        if (k <= 63 and maxIndex <=63) or (k > 63 and maxIndex > 63):\n",
    "            count+=1\n",
    "    #print(\"count \",count)\n",
    "    acc = (count/128.0)*100 \n",
    "    return acc        \n",
    "        \n",
    "    "
   ]
  },
  {
   "cell_type": "code",
   "execution_count": 31,
   "metadata": {
    "collapsed": true
   },
   "outputs": [],
   "source": [
    "label = [0 if i<64 else 1 for i in range(128)] #0 indicates input class and 1 output class\n",
    "opclass = [i for i in range(1,65)]"
   ]
  },
  {
   "cell_type": "code",
   "execution_count": 32,
   "metadata": {
    "collapsed": true
   },
   "outputs": [],
   "source": [
    "inpImgList = []\n",
    "for ip in l1:\n",
    "    ippath = os.path.join(ipfolder,ip)\n",
    "    img = Image.open(ippath)\n",
    "    inpImgList.append(img)\n"
   ]
  },
  {
   "cell_type": "code",
   "execution_count": 36,
   "metadata": {},
   "outputs": [],
   "source": [
    "accList = []\n",
    "d = {}\n",
    "for opimage in l2:\n",
    "    oppath = os.path.join(opfolder,opimage)\n",
    "    out_img = Image.open(oppath)\n",
    "    size = out_img.size[0]\n",
    "    imgList = populateImageList(inpImgList,out_img,size)\n",
    "    imgList = standardizeImageList(imgList)\n",
    "    d = createDictOfSSIValues(imgList)\n",
    "    acc = getAccuracy(d)\n",
    "    accList.append(acc)"
   ]
  },
  {
   "cell_type": "code",
   "execution_count": 37,
   "metadata": {},
   "outputs": [
    {
     "data": {
      "image/png": "[encoded data removed]",
      "text/plain": [
       "<matplotlib.figure.Figure at 0x212b53e6c18>"
      ]
     },
     "metadata": {},
     "output_type": "display_data"
    }
   ],
   "source": [
    "plt.plot(accList,'.-')\n",
    "plt.show()"
   ]
  },
  {
   "cell_type": "code",
   "execution_count": null,
   "metadata": {
    "collapsed": true
   },
   "outputs": [],
   "source": []
  }
 ],
 "metadata": {
  "kernelspec": {
   "display_name": "Python 3",
   "language": "python",
   "name": "python3"
  },
  "language_info": {
   "codemirror_mode": {
    "name": "ipython",
    "version": 3
   },
   "file_extension": ".py",
   "mimetype": "text/x-python",
   "name": "python",
   "nbconvert_exporter": "python",
   "pygments_lexer": "ipython3",
   "version": "3.6.1"
  }
 },
 "nbformat": 4,
 "nbformat_minor": 2
}
