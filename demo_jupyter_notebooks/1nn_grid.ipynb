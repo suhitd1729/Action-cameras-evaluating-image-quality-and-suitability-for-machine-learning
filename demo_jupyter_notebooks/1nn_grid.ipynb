{
 "cells": [
  {
   "cell_type": "code",
   "execution_count": 222,
   "metadata": {
    "collapsed": true
   },
   "outputs": [],
   "source": [
    "import numpy as np\n",
    "import cv2\n",
    "import matplotlib.pyplot as plt\n",
    "import os\n",
    "from PIL import Image\n",
    "from skimage import color\n",
    "from os import listdir\n",
    "from os.path import isfile, join\n",
    "import math\n",
    "import random\n",
    "import pprint\n",
    "from skimage import color\n",
    "from skimage.measure import structural_similarity as ssim"
   ]
  },
  {
   "cell_type": "code",
   "execution_count": 189,
   "metadata": {
    "collapsed": true
   },
   "outputs": [],
   "source": [
    "ipfolder = \"C:\\\\DragonBallZ\\\\Summer2018\\\\Video_Image_Processing_GANS\\\\sharedVBOX\\\\bedroomip\"\n",
    "opfolder = \"C:\\\\DragonBallZ\\\\Summer2018\\\\Video_Image_Processing_GANS\\\\sharedVBOX\\\\bedroomop\""
   ]
  },
  {
   "cell_type": "code",
   "execution_count": 190,
   "metadata": {
    "collapsed": true
   },
   "outputs": [],
   "source": [
    "inpImgList= []"
   ]
  },
  {
   "cell_type": "code",
   "execution_count": 191,
   "metadata": {
    "collapsed": true
   },
   "outputs": [],
   "source": [
    "def numeric_chars2(x):\n",
    "    y = x[5:-4]\n",
    "    return(int(y))"
   ]
  },
  {
   "cell_type": "code",
   "execution_count": 58,
   "metadata": {},
   "outputs": [],
   "source": [
    "random.seed(7)"
   ]
  },
  {
   "cell_type": "code",
   "execution_count": 192,
   "metadata": {},
   "outputs": [],
   "source": [
    "ipfiles = [f for f in os.listdir(ipfolder)]"
   ]
  },
  {
   "cell_type": "code",
   "execution_count": 193,
   "metadata": {
    "collapsed": true
   },
   "outputs": [],
   "source": [
    "opfiles = [f for f in os.listdir(opfolder)]"
   ]
  },
  {
   "cell_type": "code",
   "execution_count": 194,
   "metadata": {},
   "outputs": [],
   "source": [
    "l1 = list(np.random.choice(ipfiles,64,replace=False))\n",
    "l2 = list(np.random.choice(opfiles,64,replace=False))"
   ]
  },
  {
   "cell_type": "code",
   "execution_count": 201,
   "metadata": {},
   "outputs": [
    {
     "data": {
      "text/plain": [
       "['image35.png',\n",
       " 'image223.png',\n",
       " 'image303.png',\n",
       " 'image343.png',\n",
       " 'image457.png',\n",
       " 'image477.png',\n",
       " 'image480.png',\n",
       " 'image515.png',\n",
       " 'image629.png',\n",
       " 'image632.png',\n",
       " 'image636.png',\n",
       " 'image670.png',\n",
       " 'image684.png',\n",
       " 'image894.png',\n",
       " 'image930.png',\n",
       " 'image946.png',\n",
       " 'image978.png',\n",
       " 'image1128.png',\n",
       " 'image1309.png',\n",
       " 'image1401.png',\n",
       " 'image1564.png',\n",
       " 'image1662.png',\n",
       " 'image1789.png',\n",
       " 'image2059.png',\n",
       " 'image2167.png',\n",
       " 'image2226.png',\n",
       " 'image2235.png',\n",
       " 'image2358.png',\n",
       " 'image2359.png',\n",
       " 'image2470.png',\n",
       " 'image2742.png',\n",
       " 'image2877.png',\n",
       " 'image2891.png',\n",
       " 'image2946.png',\n",
       " 'image3027.png',\n",
       " 'image3053.png',\n",
       " 'image3059.png',\n",
       " 'image3182.png',\n",
       " 'image3245.png',\n",
       " 'image3276.png',\n",
       " 'image3414.png',\n",
       " 'image3857.png',\n",
       " 'image3885.png',\n",
       " 'image3895.png',\n",
       " 'image3902.png',\n",
       " 'image4108.png',\n",
       " 'image4147.png',\n",
       " 'image4152.png',\n",
       " 'image4225.png',\n",
       " 'image4408.png',\n",
       " 'image4476.png',\n",
       " 'image4717.png',\n",
       " 'image4774.png',\n",
       " 'image5105.png',\n",
       " 'image5162.png',\n",
       " 'image5380.png',\n",
       " 'image5398.png',\n",
       " 'image5415.png',\n",
       " 'image5444.png',\n",
       " 'image5641.png',\n",
       " 'image5705.png',\n",
       " 'image5791.png',\n",
       " 'image5840.png',\n",
       " 'image5905.png']"
      ]
     },
     "execution_count": 201,
     "metadata": {},
     "output_type": "execute_result"
    }
   ],
   "source": [
    "l2 = sorted(l2,key = numeric_chars2)\n",
    "l2"
   ]
  },
  {
   "cell_type": "code",
   "execution_count": 202,
   "metadata": {},
   "outputs": [
    {
     "data": {
      "text/plain": [
       "64"
      ]
     },
     "execution_count": 202,
     "metadata": {},
     "output_type": "execute_result"
    }
   ],
   "source": [
    "len(l1)"
   ]
  },
  {
   "cell_type": "code",
   "execution_count": 203,
   "metadata": {},
   "outputs": [],
   "source": [
    "def populateImageList(inpImgList,out_img,size):\n",
    "    listSize = [(size*i)/8 for i in range(0,8)]\n",
    "    imgList = []\n",
    "    outImgList = [] \n",
    "    for col in listSize:\n",
    "        for row in listSize:\n",
    "            area = (row,col,row+(size/8),col+(size/8))\n",
    "            out_img_grid = out_img.crop(area)\n",
    "            outImgList.append(out_img_grid)\n",
    "    imgList.extend(inpImgList)\n",
    "    imgList.extend(outImgList)\n",
    "    return imgList"
   ]
  },
  {
   "cell_type": "code",
   "execution_count": 204,
   "metadata": {
    "collapsed": true
   },
   "outputs": [],
   "source": [
    "def standardizeImageList(imgList):\n",
    "    new_width,new_height = 64,64\n",
    "    imgList = [i.resize((new_width, new_height), Image.ANTIALIAS) for i in imgList]\n",
    "    return imgList\n",
    "    \n",
    "    "
   ]
  },
  {
   "cell_type": "code",
   "execution_count": 205,
   "metadata": {
    "collapsed": true
   },
   "outputs": [],
   "source": [
    "def imgToArray(imgList):\n",
    "    npArray = []\n",
    "    for i in imgList:\n",
    "        I = np.asarray(i.convert('L'))\n",
    "        npArray.append(I)\n",
    "    return npArray\n",
    "        "
   ]
  },
  {
   "cell_type": "code",
   "execution_count": 206,
   "metadata": {
    "collapsed": true
   },
   "outputs": [],
   "source": [
    "def compute2Norm(u,v):\n",
    "    i = u - v\n",
    "    return np.linalg.norm(i) "
   ]
  },
  {
   "cell_type": "code",
   "execution_count": 213,
   "metadata": {},
   "outputs": [],
   "source": [
    "def createDictOf2NormValues(npArray):\n",
    "    startIndex = 0\n",
    "    d = {}\n",
    "    for i in npArray:\n",
    "        lst = []\n",
    "        for j in npArray:\n",
    "            val = compute2Norm(i,j)\n",
    "            if val == 0:\n",
    "                val = float(\"inf\")\n",
    "            lst.append(val)\n",
    "        d[startIndex] = lst\n",
    "        startIndex+=1\n",
    "    return d"
   ]
  },
  {
   "cell_type": "code",
   "execution_count": 219,
   "metadata": {},
   "outputs": [],
   "source": [
    "def getAccuracy(d):\n",
    "    count = 0 \n",
    "    for k in d.keys():\n",
    "        valList = d[k]\n",
    "        minIndex = valList.index(min(valList))\n",
    "        if (k <= 63 and minIndex <=63) or (k > 63 and minIndex > 63):\n",
    "            count+=1\n",
    "    #print(\"count \",count)\n",
    "    acc = (count/128.0)*100 \n",
    "    return acc        \n",
    "        \n",
    "    "
   ]
  },
  {
   "cell_type": "code",
   "execution_count": 209,
   "metadata": {},
   "outputs": [],
   "source": [
    "label = [0 if i<64 else 1 for i in range(128)] #0 indicates input class and 1 output class\n",
    "opclass = [i for i in range(1,65)]"
   ]
  },
  {
   "cell_type": "code",
   "execution_count": 210,
   "metadata": {},
   "outputs": [],
   "source": [
    "inpImgList = []\n",
    "for ip in l1:\n",
    "    ippath = os.path.join(ipfolder,ip)\n",
    "    img = Image.open(ippath)\n",
    "    inpImgList.append(img)\n"
   ]
  },
  {
   "cell_type": "code",
   "execution_count": 220,
   "metadata": {},
   "outputs": [],
   "source": [
    "accList = []\n",
    "d = {}\n",
    "for opimage in l2:\n",
    "    oppath = os.path.join(opfolder,opimage)\n",
    "    out_img = Image.open(oppath)\n",
    "    size = out_img.size[0]\n",
    "    imgList = populateImageList(inpImgList,out_img,size)\n",
    "    imgList = standardizeImageList(imgList)\n",
    "    npArray = imgToArray(imgList)\n",
    "    d = createDictOf2NormValues(npArray)\n",
    "    acc = getAccuracy(d)\n",
    "    accList.append(acc)"
   ]
  },
  {
   "cell_type": "code",
   "execution_count": 221,
   "metadata": {},
   "outputs": [
    {
     "data": {
      "image/png": "[encoded data removed]",
      "text/plain": [
       "<matplotlib.figure.Figure at 0x17d0717b390>"
      ]
     },
     "metadata": {},
     "output_type": "display_data"
    }
   ],
   "source": [
    "plt.plot(accList,'.-')\n",
    "plt.show()"
   ]
  },
  {
   "cell_type": "code",
   "execution_count": null,
   "metadata": {},
   "outputs": [],
   "source": []
  }
 ],
 "metadata": {
  "kernelspec": {
   "display_name": "Python 3",
   "language": "python",
   "name": "python3"
  },
  "language_info": {
   "codemirror_mode": {
    "name": "ipython",
    "version": 3
   },
   "file_extension": ".py",
   "mimetype": "text/x-python",
   "name": "python",
   "nbconvert_exporter": "python",
   "pygments_lexer": "ipython3",
   "version": "3.6.1"
  }
 },
 "nbformat": 4,
 "nbformat_minor": 2
}
